{
 "cells": [
  {
   "cell_type": "markdown",
   "metadata": {},
   "source": [
    "<div style=\"width:100%;border-collapse:separate;border:solid 2px;border-radius:14px;\">\n",
    "    <div style=\"display:flex;\">\n",
    "        <div style=\"display:inline;width:5%;\"></div>\n",
    "        <div style=\"display:inline;width:15%;\">NSIT</div>\n",
    "        <div style=\"display:inline;width:15%;\">10a</div>\n",
    "        <div style=\"display:inline;width:70%;text-align:right;\"><b>Structures de données</b></div>\n",
    "        <div style=\"display:inline;width:5%;\"></div>\n",
    "    </div>\n",
    "    <div  style=\"display: flex;background-color:#EEE\">\n",
    "        <p style=\"width:100%;text-align:center;\">Structures à accès par clés</p>\n",
    "    </div>\n",
    "    <div  style=\"display: flex;\">\n",
    "        <p style=\"width:100%;text-align:center;\">Dictionnaires et notion d'API</p>\n",
    "    </div>\n",
    "</div>"
   ]
  },
  {
   "cell_type": "markdown",
   "metadata": {},
   "source": [
    "<div class = \"alert alert-success\">\n",
    "    \n",
    "**Objectifs de la séquence:**  \n",
    "- Révisions du programme de première sur l'implémentation Python des dictionnaires (type dict).  \n",
    "- Approfondissement sur les tables de hash (hors_programme)  \n",
    "- Modularité: Utiliser des API (Application Programming Interface)\n",
    "- Traitement des données en tables.\n",
    "</div>\n",
    "    \n",
    "<div class = \"alert alert-info\">\n",
    "    \n",
    "**Sommaire :**\n",
    "\n",
    "- <a href=#definition>Définition, syntaxe</a>\n",
    "- <a href=#hash>Tables de hash</a>\n",
    "- <a href=#exercice1>Exercie 1: Fiche_ISS</a>\n",
    "- <a href=#exercice2>Exercice 2: API. Où est l'ISS ?</a>\n",
    "- <a href=#comparatif>Mesure de performance de la recherche</a>\n",
    "- <a href=#defi>Défi: Les prochains lancements de fusées</a>\n",
    "</div>\n",
    "\n",
    "![ISS_dico](https://github.com/ebuonocore/NSIT_10_Dictionnaires/blob/main/sources/ISS_ESA2.png?raw=true)\n",
    "<span style=\"font-family:Comic Sans MS; color:gray; font-size: x-small;float:right \">Source: D'après <a href =\"https://www.airbus.com/newsroom/news/en/2017/06/esa-horizons-mission.html\">airbus.com</a></span> \n",
    "\n",
    "<div id=\"definition\"></div>\n",
    "\n",
    "## Définition et syntaxe\n",
    "\n",
    "Un dictionnaire est composé de paires **clé-valeur**: On accède aux valeurs par l'appel de la clé correspondante.  \n",
    "\n",
    "Les opérations classiques que l'on peut effectuer sur un dictionnaire sont :\n",
    "\n",
    "- **Ajouter** une nouvelle entrée au dictionnaire en créant une nouvelle clé\n",
    "- **Modifier** la valeur associée à une clé existante\n",
    "- **Supprimer** une entrée dans un dictionnaire\n",
    "- **Rechercher** la présence d'une clé dans un dictionnaire.\n",
    "\n",
    "\n",
    "### Syntaxe Python\n",
    "Un dictionnaire est un ensemble d'éléments entourés d'accolades **{ }**   \n",
    "La clef et la valeur sont séparés par **:**  \n",
    "Les différentes lignes du dictionnaire sont séparées par des **virgules**  \n",
    "Exemple:"
   ]
  },
  {
   "cell_type": "code",
   "execution_count": null,
   "metadata": {},
   "outputs": [],
   "source": [
    "Fiche_ISS = {   \n",
    "    'Nom' : \"Station spatiale internationale (ISS)\" ,\n",
    "    'Hauteur_orbite_km' : 408 ,\n",
    "    'Vitesse_en_orbite_km_par_s' : 7.66 ,\n",
    "    'Date_de_lancement' : \"20 novembre 1998\" ,\n",
    "    'Cout_milliards_USD': 150 }\n",
    "type(Fiche_ISS)"
   ]
  },
  {
   "cell_type": "markdown",
   "metadata": {},
   "source": [
    "<div id=\"hash\"></div>\n",
    "\n",
    "## Tables de hash\n",
    "\n",
    "Le contenu de la <a href=\"https://www.youtube.com/watch?v=IhJo8sXLfVw\">vidéo</a> qui suit est <i>hors-programme</i> mais elle est particulièrement éclairante sur l'efficacité des dictionnaires."
   ]
  },
  {
   "cell_type": "code",
   "execution_count": null,
   "metadata": {},
   "outputs": [],
   "source": [
    "# Exécutez ce code pour lancer la vidéo ou suivez le lien ci-dessus (vidéo)\n",
    "from IPython.display import YouTubeVideo\n",
    "YouTubeVideo('IhJo8sXLfVw', width = 400, height = 300) # Passez en plein écran si nécessaire\n",
    "# Cours Python 3 3.3 Tables de hash (8min17s)"
   ]
  },
  {
   "cell_type": "markdown",
   "metadata": {},
   "source": [
    "La prochaine vidéo fait référence aux <a href=\"https://docs.python.org/fr/3/library/functions.html?highlight=natives\">fonctions natives</a> de Python (ou built-in): Il s'agit des instructions que vous pouvez utiliser sans faire de <code>import</code>  \n",
    "Il utilise aussi des <a href=\"https://docs.python.org/fr/3/tutorial/inputoutput.html\">f-strings</a>. Les deux lignes de codes suivantes vont présenter des résultats équivalents en sortie:"
   ]
  },
  {
   "cell_type": "code",
   "execution_count": null,
   "metadata": {},
   "outputs": [],
   "source": [
    "nom = \"Donald\"\n",
    "age = 75\n",
    "print(\"Bonjour, je m'appelle \" + nom + \". Et j'ai \" + str(age) + \" ans.\")"
   ]
  },
  {
   "cell_type": "code",
   "execution_count": null,
   "metadata": {},
   "outputs": [],
   "source": [
    "print(f\"Bonjour, je m'appelle {nom}. Et j'ai {age} ans.\")"
   ]
  },
  {
   "cell_type": "markdown",
   "metadata": {},
   "source": [
    "Lien vers la <a href=\"https://www.youtube.com/watch?v=VnhBoQAgIVs\">seconde vidéo</a>."
   ]
  },
  {
   "cell_type": "code",
   "execution_count": null,
   "metadata": {},
   "outputs": [],
   "source": [
    "# Exécutez ce code pour lancer la vidéo\n",
    "from IPython.display import YouTubeVideo\n",
    "YouTubeVideo('VnhBoQAgIVs', width = 400, height = 300) # Passez en plein écran si nécessaire\n",
    "# Cours Python 3 - 3.4 Les dictionnaires (9min50s)\n",
    "\n",
    "# Soyez vigilant au 'unpacking' vers 8min30"
   ]
  },
  {
   "cell_type": "markdown",
   "metadata": {},
   "source": [
    "<div id=\"exercice1\"></div>\n",
    "\n",
    "## Exercice 1: Fiche_ISS"
   ]
  },
  {
   "cell_type": "markdown",
   "metadata": {},
   "source": [
    "On reprend la Fiche_ISS définie plus haut.  \n",
    "Ne saisissez pas directement la réponse dans les cellules, mais le code qui permet de renvoyer le bon résultat."
   ]
  },
  {
   "cell_type": "markdown",
   "metadata": {},
   "source": [
    "1- Listez l'ensemble des clés de Fiche_ISS:  "
   ]
  },
  {
   "cell_type": "code",
   "execution_count": null,
   "metadata": {},
   "outputs": [],
   "source": []
  },
  {
   "cell_type": "markdown",
   "metadata": {},
   "source": [
    "2- Listez l'ensemble des valeurs de notre dictionnaire:"
   ]
  },
  {
   "cell_type": "code",
   "execution_count": null,
   "metadata": {},
   "outputs": [],
   "source": []
  },
  {
   "cell_type": "markdown",
   "metadata": {},
   "source": [
    "3- Affichez l'ensemble des couples clé-valeur:"
   ]
  },
  {
   "cell_type": "code",
   "execution_count": null,
   "metadata": {},
   "outputs": [],
   "source": []
  },
  {
   "cell_type": "markdown",
   "metadata": {},
   "source": [
    "4- Est-ce que le dictionnaire contient la clé 'Hauteur_orbite_km' ?"
   ]
  },
  {
   "cell_type": "code",
   "execution_count": null,
   "metadata": {},
   "outputs": [],
   "source": []
  },
  {
   "cell_type": "markdown",
   "metadata": {},
   "source": [
    "5- Ajoutez la clé 'Nombre_habitants_max' associé à la valeur 9"
   ]
  },
  {
   "cell_type": "code",
   "execution_count": null,
   "metadata": {},
   "outputs": [],
   "source": []
  },
  {
   "cell_type": "markdown",
   "metadata": {},
   "source": [
    "6- Supprimer la clé 'Date_de_lancement'"
   ]
  },
  {
   "cell_type": "code",
   "execution_count": null,
   "metadata": {},
   "outputs": [],
   "source": []
  },
  {
   "cell_type": "markdown",
   "metadata": {},
   "source": [
    "7- Affichez la taille du dictionnaire Fiche_ISS"
   ]
  },
  {
   "cell_type": "code",
   "execution_count": null,
   "metadata": {},
   "outputs": [],
   "source": []
  },
  {
   "cell_type": "markdown",
   "metadata": {},
   "source": [
    "&#x2705; <a href=\"https://github.com/ebuonocore/NSIT_10_Dictionnaires/blob/main/sources/correction1\">Correction</a></div>"
   ]
  },
  {
   "cell_type": "markdown",
   "metadata": {},
   "source": [
    "<div id=\"exercice2\"></div>\n",
    "\n",
    "## Exercice 2: API. Où est l'ISS ?\n",
    "\n",
    "Nous allons faire appel à une Interface de Programmation d'Application (ou **API** en anglais: Application Programming Interface).  \n",
    "Nous allons faire une requête auprès d'un **serveur** distant via le web. Ce serveur va exécuter pour nous un service et nous en renvoyer le résultat.  \n",
    "Les API sont largement utilisées pour faciliter le paiement en ligne, des accès aux services de géolocalisation ou renvoyer des données sur la météo par exemple.  \n",
    "Les API répondent à des attentes de souplesse, de réactivité et de **modularité**.  \n",
    "Peu importe comment elle s'y prend pour nous répondre, ce qui nous intéresse c'est \"Comment je l'interroge?\" et \"Quel est le format de la réponse?\".  \n",
    "Du point de vue du serveur, l'origine de la requête importe peu: Elle peut émaner d'un ordinateur, tablette, téléphone, objet connecté...  \n",
    "\n",
    "![API](https://raw.githubusercontent.com/ebuonocore/NSIT_10_Dictionnaires/main/sources/API.png?raw=true)\n",
    "\n",
    "Le code suivant interroge une API sur l'ISS.  \n",
    "Plus précisément, nous allons faire une requête concernant la géolocalisation de la station spatiale."
   ]
  },
  {
   "cell_type": "code",
   "execution_count": null,
   "metadata": {},
   "outputs": [],
   "source": [
    "# Import des bibliothèques\n",
    "import json\n",
    "import urllib.request\n",
    "\n",
    "# Appelle l'API et récupère la réponse\n",
    "url1 = 'http://api.open-notify.org/iss-now.json'\n",
    "reponse1 = urllib.request.urlopen(url1)\n",
    "# Exploitation de la réponse\n",
    "resultat1 = json.loads(reponse1.read())\n",
    "resultat1"
   ]
  },
  {
   "cell_type": "markdown",
   "metadata": {},
   "source": [
    "Le résultat est renvoyé au **format JSON**  \n",
    "**J**ava**S**cript **O**bject **N**otation est un format de données textuelles dérivé de la notation des objets du langage JavaScript.  \n",
    "Il permet de représenter de l’information structurée similaire à la syntaxe des dictionnaires Python.\n",
    "\n",
    "**A vous de jouer:**  Ne donnez pas directement la réponse, écrivez le code qui va la donner.  \n",
    "8- Quel est le type de resultat1?"
   ]
  },
  {
   "cell_type": "code",
   "execution_count": null,
   "metadata": {},
   "outputs": [],
   "source": []
  },
  {
   "cell_type": "markdown",
   "metadata": {},
   "source": [
    "9- Quels sont les types des valeurs associées aux clés 'timestamp' et 'iss_position'?"
   ]
  },
  {
   "cell_type": "code",
   "execution_count": null,
   "metadata": {},
   "outputs": [],
   "source": []
  },
  {
   "cell_type": "markdown",
   "metadata": {},
   "source": [
    "10- Affichez la lattitude et la longitude de l'ISS"
   ]
  },
  {
   "cell_type": "code",
   "execution_count": null,
   "metadata": {},
   "outputs": [],
   "source": []
  },
  {
   "cell_type": "markdown",
   "metadata": {},
   "source": [
    "11- Copier/coller l'adresse url1 dans votre navigateur.  \n",
    "Dans le menu \"En-tête\", à quoi correspond la clé \"User-Agent\" ? ...  \n",
    "Dans quel menu retrouve-t-on la mise en forme des données telle que nous l'avons reçue dans resutat1 ? ..."
   ]
  },
  {
   "cell_type": "markdown",
   "metadata": {},
   "source": [
    "&#x2705; <a href=\"https://github.com/ebuonocore/NSIT_10_Dictionnaires/blob/main/sources/correction2\">Correction</a></div>"
   ]
  },
  {
   "cell_type": "markdown",
   "metadata": {},
   "source": [
    "Le code suivant récupère d'autres données sur le même serveur."
   ]
  },
  {
   "cell_type": "code",
   "execution_count": null,
   "metadata": {},
   "outputs": [],
   "source": [
    "url2 = 'http://api.open-notify.org/astros.json'\n",
    "reponse2 = urllib.request.urlopen(url2)\n",
    "resultat2 = json.loads(reponse2.read())\n",
    "resultat2"
   ]
  },
  {
   "cell_type": "markdown",
   "metadata": {},
   "source": [
    "**A voude jouer:**   \n",
    "Qu'a-t-on modifié dans ce code pour obtenir une réponse différente?  ..."
   ]
  },
  {
   "cell_type": "markdown",
   "metadata": {},
   "source": [
    "12 - Quel est le type de la valeur associée à la clé 'people'? "
   ]
  },
  {
   "cell_type": "code",
   "execution_count": null,
   "metadata": {},
   "outputs": [],
   "source": []
  },
  {
   "cell_type": "markdown",
   "metadata": {},
   "source": [
    "13 - Quel est le type du premier élément de resultat2['people'] ?"
   ]
  },
  {
   "cell_type": "code",
   "execution_count": null,
   "metadata": {},
   "outputs": [],
   "source": []
  },
  {
   "cell_type": "markdown",
   "metadata": {},
   "source": [
    "14- Affichez le nom du premier habitant de l'ISS listé."
   ]
  },
  {
   "cell_type": "code",
   "execution_count": null,
   "metadata": {},
   "outputs": [],
   "source": []
  },
  {
   "cell_type": "markdown",
   "metadata": {},
   "source": [
    "&#x2705; <a href=\"https://github.com/ebuonocore/NSIT_10_Dictionnaires/blob/main/sources/correction3\">Correction</a></div>"
   ]
  },
  {
   "cell_type": "markdown",
   "metadata": {},
   "source": [
    "<div id=\"comparatif\"></div>\n",
    "\n",
    "## Mesure de performance de la recherche\n",
    "\n",
    "Nous allons comparer l'évolution du temps de recherche d'un élément dans une **liste** par rapport à un **dictionnaire**.  \n",
    "Pour nous placer dans le 'pire cas', nous allons chercher un élément qui ne peut pas être dans notre ensemble: ici, un caractère 'x' dans un ensemble d'entiers.  \n",
    "A chaque étape, nous multiplions par 10 le nombre d'éléments de l'ensemble.  "
   ]
  },
  {
   "cell_type": "code",
   "execution_count": null,
   "metadata": {},
   "outputs": [],
   "source": [
    "# Mesure le temps moyen de recherchre du caractère 'x' dans une liste de 100 entiers.\n",
    "ma_liste = range(100) \n",
    "%timeit 'x' in ma_liste"
   ]
  },
  {
   "cell_type": "code",
   "execution_count": null,
   "metadata": {},
   "outputs": [],
   "source": [
    "ma_liste = range(1000) \n",
    "%timeit 'x' in ma_liste"
   ]
  },
  {
   "cell_type": "code",
   "execution_count": null,
   "metadata": {},
   "outputs": [],
   "source": [
    "ma_liste = range(10000) \n",
    "%timeit 'x' in ma_liste"
   ]
  },
  {
   "cell_type": "markdown",
   "metadata": {},
   "source": [
    "La fonction <code>creation_dico()</code> va nous permettre de générer des dicionnaires dont la taille est fixée mais les valeurs sont aléatoires."
   ]
  },
  {
   "cell_type": "code",
   "execution_count": null,
   "metadata": {},
   "outputs": [],
   "source": [
    "import random\n",
    "\n",
    "def creation_dico(nb_elements:int)->dict:\n",
    "    \"\"\" Génère un dictionnaire de nb_elements.\n",
    "        les clés sont les entiers compris entre 0 et nb_elements-1\n",
    "        Les valeurs associées sont des entiers tirés au hasard\n",
    "    \"\"\"\n",
    "    dico = {}\n",
    "    for k in range(nb_elements):\n",
    "        dico[k] = random.randint(0,10000)\n",
    "    return dico\n",
    "\n",
    "# Exemple d'utilisation\n",
    "dico = creation_dico(5)\n",
    "print(f'Dictionnaire généré: {dico}')\n",
    "print(f'D\\'une taille de {len(dico)} clés')"
   ]
  },
  {
   "cell_type": "code",
   "execution_count": null,
   "metadata": {},
   "outputs": [],
   "source": [
    "dico = creation_dico(100)\n",
    "%timeit 'x' in dico"
   ]
  },
  {
   "cell_type": "code",
   "execution_count": null,
   "metadata": {},
   "outputs": [],
   "source": [
    "dico = creation_dico(1000)\n",
    "%timeit 'x' in dico"
   ]
  },
  {
   "cell_type": "code",
   "execution_count": null,
   "metadata": {},
   "outputs": [],
   "source": [
    "dico = creation_dico(10000)\n",
    "%timeit 'x' in dico"
   ]
  },
  {
   "cell_type": "markdown",
   "metadata": {},
   "source": [
    "**A vous de jouer:**  \n",
    "Comment évolue le temps de recherche lorsque la taille de la liste augmente? ...  \n",
    "Comment évolue le temps de recherche lorsque la taille du dictionnaire augmente? ...  "
   ]
  },
  {
   "cell_type": "markdown",
   "metadata": {},
   "source": [
    "<p><img src=\"https://raw.githubusercontent.com/ebuonocore/NSIT_10_Dictionnaires/main/sources/Falcon.png?raw=true\" alt=\"Falcon_SpaceX\" /> <span style=\"font-family: 'comic sans ms'; color: gray; font-size: x-small; float: right;\">Source: SpaceX depuis le site <a href=\"https://siecledigital.fr/2019/04/16/spacex-a-perdu-lun-des-trois-propulseurs-du-falcon-heavy/\" target=\"_blank\" rel=\"noopener\">siecledigital.fr</a></span></p>\n",
    "<div id=\"defi\">&nbsp;</div>\n",
    "<h2 id=\"Le-d&eacute;fi:-Les-prochains-lancements-de-fus&eacute;es\">Le d&eacute;fi: Les prochains lancements de fus&eacute;es</h2>\n",
    "<p>Le code suivant r&eacute;cup&egrave;re aupr&egrave;s de l'API de <em>launchlibrary.net</em> la liste des 10 prochains lancements de fus&eacute;es.<br /><code>lanceurs</code> est un dictionnaire de quelques lanceurs connus.</p>\n",
    "<p><strong>D&eacute;fi:</strong><br />Modifiez la requ&ecirc;te pour lister les 100 prochains lancements.<br />Cherchez dans cette liste le nombre de lancements pr&eacute;vus par le lanceur 'Falcon'.<br />Cherchez le nombre de lancements pr&eacute;vus pour chacun des lanceurs du dictionnaire <code>lanceurs</code><br /><strong>D&eacute;fi ultime:</strong><br />Cherchez le nombre de lancements pr&eacute;vus pour chaque lanceur qui apparait dans la liste retourn&eacute;e par l'API (Mettre &agrave; jour le dictionnaire <code>lanceurs</code>) Cerise sur le g&acirc;teau: Classez-les dans l'ordre alphab&eacute;tique OU dans l'ordre du nombre d'occurences.</p>"
   ]
  },
  {
   "cell_type": "code",
   "execution_count": null,
   "metadata": {},
   "outputs": [],
   "source": [
    "# Importation des bibliothèques\n",
    "import requests # Permet de gérer les requêtes 'requests.get'\n",
    "import operator # Permet de trier selon un item 'operator.itemgetter()''\n",
    "\n",
    "# Lance la requête\n",
    "resp = requests.get('https://ll.thespacedevs.com/2.2.0/launch/upcoming/?limit=10&offset=10')\n",
    "\n",
    "print(\"Liste des clefs de la requête:\", resp.json().keys())\n",
    "print()\n",
    "\n",
    "# On récupère la valeur associée à la clé 'results'\n",
    "reponse = resp.json()['results'] # reponse contient alors la liste des lancements\n",
    "# Création de la liste des lanceurs.\n",
    "lanceurs = {'Angara':0, 'Soyuz':0, 'Falcon':0, 'Ariane':0 , 'Delta':0, 'Atlas':0}\n",
    "\n",
    "for lancement in reponse:\n",
    "    print(lancement['name'])\n",
    "\n",
    "# Chercher le nombre d'occurences du lanceur 'Falcon' dans les 100 prochains lancements"
   ]
  },
  {
   "cell_type": "markdown",
   "metadata": {},
   "source": [
    "&#x1F511; <a href=\"https://github.com/ebuonocore/NSIT_10_Dictionnaires/blob/main/sources/aide1\">Aide</a>"
   ]
  },
  {
   "cell_type": "markdown",
   "metadata": {},
   "source": [
    "---\n",
    "<p style=\"font-family:Comic Sans MS; text-align: center; color:gray; font-size: x-small; \">- Eric Buonocore. Novembre 2020 -<br>\n",
    "Réalisé à partir des pages d'<a href=\"https://www.lecluse.fr/nsi/NSI_T/donnees/dico/\">Olivier Lecluse</a> et <a href=\"https://github.com/glassus/nsi/blob/master/Terminale/Theme_1_Structures_de_donnees/1.2_Dictionnaires/01_Dictionnaires.ipynb\">G.Lassus</a>\n",
    "</p>\n",
    "\n",
    "![Licence CC BY NC SA](https://licensebuttons.net/l/by-nc-sa/3.0/88x31.png)"
   ]
  }
 ],
 "metadata": {
  "kernelspec": {
   "display_name": "Python 3",
   "language": "python",
   "name": "python3"
  },
  "language_info": {
   "codemirror_mode": {
    "name": "ipython",
    "version": 3
   },
   "file_extension": ".py",
   "mimetype": "text/x-python",
   "name": "python",
   "nbconvert_exporter": "python",
   "pygments_lexer": "ipython3",
   "version": "3.8.8"
  }
 },
 "nbformat": 4,
 "nbformat_minor": 2
}
